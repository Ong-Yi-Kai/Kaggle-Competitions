{
 "cells": [
  {
   "cell_type": "code",
   "execution_count": 17,
   "metadata": {},
   "outputs": [],
   "source": [
    "import pandas as pd\n",
    "import numpy as np\n",
    "import matplotlib.pyplot as plt\n",
    "\n",
    "import time\n",
    "\n",
    "from numba import jit\n",
    "\n",
    "from sklearn.model_selection import train_test_split, GridSearchCV\n",
    "from sklearn.feature_selection import SelectKBest, VarianceThreshold, chi2\n",
    "from sklearn.preprocessing import Normalizer, StandardScaler, MinMaxScaler\n",
    "from sklearn.linear_model import LogisticRegression\n",
    "from sklearn.ensemble import RandomForestClassifier, IsolationForest\n",
    "from sklearn.neighbors import KNeighborsClassifier\n",
    "from sklearn.pipeline import Pipeline\n",
    "from sklearn.metrics import accuracy_score, precision_score, recall_score, f1_score, roc_auc_score"
   ]
  },
  {
   "cell_type": "code",
   "execution_count": 4,
   "metadata": {},
   "outputs": [
    {
     "name": "stdout",
     "output_type": "stream",
     "text": [
      "DATA LOADED! Time Taken:.44.43\n"
     ]
    }
   ],
   "source": [
    "start = time.time()\n",
    "train = pd.read_csv(r\"C:\\Users\\Ong Yi Kai\\Desktop\\Data\\Kaggle competitions\\Tabular Data Sept 2021\\train.csv\")\n",
    "test = pd.read_csv(r\"C:\\Users\\Ong Yi Kai\\Desktop\\Data\\Kaggle competitions\\Tabular Data Sept 2021\\train.csv\")\n",
    "total_time = time.time()-start\n",
    "print('DATA LOADED! Time Taken:.{:.2f}'.format(total_time))"
   ]
  },
  {
   "cell_type": "markdown",
   "metadata": {},
   "source": [
    "Splitting training into Train and CV sets"
   ]
  },
  {
   "cell_type": "code",
   "execution_count": 15,
   "metadata": {},
   "outputs": [
    {
     "name": "stdout",
     "output_type": "stream",
     "text": [
      "shape of training set\n",
      "X:(766335, 118)\n",
      "y:(766335, 1) \n",
      " shape of Cross Validation set \n",
      "X:(191584, 118) \n",
      "y:(191584, 1)\n"
     ]
    }
   ],
   "source": [
    "X_train,X_CV,y_train,y_CV = train_test_split(train.iloc[:,1:-1], train.iloc[:,-1:],test_size=0.2,random_state=2021)\n",
    "print('shape of training set\\nX:{}\\ny:{} \\n shape of Cross Validation set \\nX:{} \\ny:{}'.format(X_train.shape,y_train.shape,X_CV.shape, y_CV.shape))"
   ]
  },
  {
   "cell_type": "markdown",
   "metadata": {},
   "source": [
    "Replacing Null Values"
   ]
  },
  {
   "cell_type": "code",
   "execution_count": 13,
   "metadata": {},
   "outputs": [],
   "source": [
    "numerical_features = [col for col in train.columns if col not in ('id','claim')]\n",
    "for col in numerical_features:\n",
    "    train[col].replace(np.nan,train[col].mean(skipna=True),inplace=True)"
   ]
  },
  {
   "cell_type": "markdown",
   "metadata": {},
   "source": [
    "Removing outliers"
   ]
  },
  {
   "cell_type": "code",
   "execution_count": 18,
   "metadata": {},
   "outputs": [
    {
     "name": "stderr",
     "output_type": "stream",
     "text": [
      "C:\\Users\\Ong Yi Kai\\anaconda3\\lib\\site-packages\\sklearn\\base.py:441: UserWarning: X does not have valid feature names, but IsolationForest was fitted with feature names\n",
      "  warnings.warn(\n",
      "C:\\Users\\Ong Yi Kai\\anaconda3\\lib\\site-packages\\sklearn\\base.py:441: UserWarning: X does not have valid feature names, but IsolationForest was fitted with feature names\n",
      "  warnings.warn(\n"
     ]
    }
   ],
   "source": [
    "iso = IsolationForest(contamination=0.1)\n",
    "yhat = iso.fit_predict(X_train)"
   ]
  },
  {
   "cell_type": "code",
   "execution_count": 20,
   "metadata": {},
   "outputs": [],
   "source": [
    "mask = yhat!=-1\n",
    "Xtrain, ytrain = X_train.iloc[mask,:], y_train.iloc[mask, :]"
   ]
  },
  {
   "cell_type": "markdown",
   "metadata": {},
   "source": [
    "Pipeline Object"
   ]
  },
  {
   "cell_type": "code",
   "execution_count": 21,
   "metadata": {},
   "outputs": [],
   "source": [
    "pipe = Pipeline([\n",
    "    ('Scaler',StandardScaler()),\n",
    "    ('Selector',VarianceThreshold()),\n",
    "    ('Estimator',RandomForestClassifier())\n",
    "])"
   ]
  },
  {
   "cell_type": "code",
   "execution_count": 22,
   "metadata": {},
   "outputs": [],
   "source": [
    "grid_params = {\n",
    "    'Selector':[SelectKBest(score_func=chi2),VarianceThreshold(threshold=0.3)],\n",
    "    'Estimator':[LogisticRegression(),RandomForestClassifier(),KNeighborsClassifier()]\n",
    "}"
   ]
  },
  {
   "cell_type": "code",
   "execution_count": null,
   "metadata": {},
   "outputs": [
    {
     "name": "stdout",
     "output_type": "stream",
     "text": [
      "Fitting 5 folds for each of 6 candidates, totalling 30 fits\n",
      "[CV] END Estimator=LogisticRegression(), Selector=SelectKBest(score_func=<function chi2 at 0x000001856DFD8550>); total time=   9.3s\n",
      "[CV] END Estimator=LogisticRegression(), Selector=SelectKBest(score_func=<function chi2 at 0x000001856DFD8550>); total time=  10.7s\n",
      "[CV] END Estimator=LogisticRegression(), Selector=SelectKBest(score_func=<function chi2 at 0x000001856DFD8550>); total time=   2.1s\n",
      "[CV] END Estimator=LogisticRegression(), Selector=SelectKBest(score_func=<function chi2 at 0x000001856DFD8550>); total time=   1.9s\n",
      "[CV] END Estimator=LogisticRegression(), Selector=SelectKBest(score_func=<function chi2 at 0x000001856DFD8550>); total time=   1.9s\n",
      "[CV] END Estimator=LogisticRegression(), Selector=VarianceThreshold(threshold=0.3); total time=   6.4s\n",
      "[CV] END Estimator=LogisticRegression(), Selector=VarianceThreshold(threshold=0.3); total time=   4.7s\n",
      "[CV] END Estimator=LogisticRegression(), Selector=VarianceThreshold(threshold=0.3); total time=   7.6s\n",
      "[CV] END Estimator=LogisticRegression(), Selector=VarianceThreshold(threshold=0.3); total time=   7.1s\n",
      "[CV] END Estimator=LogisticRegression(), Selector=VarianceThreshold(threshold=0.3); total time=   4.3s\n",
      "[CV] END Estimator=RandomForestClassifier(), Selector=SelectKBest(score_func=<function chi2 at 0x000001856DFD8550>); total time=   1.8s\n",
      "[CV] END Estimator=RandomForestClassifier(), Selector=SelectKBest(score_func=<function chi2 at 0x000001856DFD8550>); total time=   1.8s\n",
      "[CV] END Estimator=RandomForestClassifier(), Selector=SelectKBest(score_func=<function chi2 at 0x000001856DFD8550>); total time=   1.8s\n",
      "[CV] END Estimator=RandomForestClassifier(), Selector=SelectKBest(score_func=<function chi2 at 0x000001856DFD8550>); total time=   1.8s\n",
      "[CV] END Estimator=RandomForestClassifier(), Selector=SelectKBest(score_func=<function chi2 at 0x000001856DFD8550>); total time=   1.8s\n",
      "[CV] END Estimator=RandomForestClassifier(), Selector=VarianceThreshold(threshold=0.3); total time=20.6min\n",
      "[CV] END Estimator=RandomForestClassifier(), Selector=VarianceThreshold(threshold=0.3); total time=21.0min\n",
      "[CV] END Estimator=RandomForestClassifier(), Selector=VarianceThreshold(threshold=0.3); total time=19.7min\n",
      "[CV] END Estimator=RandomForestClassifier(), Selector=VarianceThreshold(threshold=0.3); total time=21.0min\n",
      "[CV] END Estimator=RandomForestClassifier(), Selector=VarianceThreshold(threshold=0.3); total time=23.5min\n",
      "[CV] END Estimator=KNeighborsClassifier(), Selector=SelectKBest(score_func=<function chi2 at 0x000001856DFD8550>); total time=   4.9s\n",
      "[CV] END Estimator=KNeighborsClassifier(), Selector=SelectKBest(score_func=<function chi2 at 0x000001856DFD8550>); total time=   1.8s\n",
      "[CV] END Estimator=KNeighborsClassifier(), Selector=SelectKBest(score_func=<function chi2 at 0x000001856DFD8550>); total time=   1.9s\n",
      "[CV] END Estimator=KNeighborsClassifier(), Selector=SelectKBest(score_func=<function chi2 at 0x000001856DFD8550>); total time=   1.8s\n",
      "[CV] END Estimator=KNeighborsClassifier(), Selector=SelectKBest(score_func=<function chi2 at 0x000001856DFD8550>); total time=   1.9s\n"
     ]
    }
   ],
   "source": [
    "search = GridSearchCV(estimator = pipe,param_grid = grid_params,scoring='roc_auc',verbose=2)\n",
    "search.fit(X_train,np.ravel(y_train))"
   ]
  },
  {
   "cell_type": "markdown",
   "metadata": {},
   "source": [
    "performance on CV"
   ]
  },
  {
   "cell_type": "code",
   "execution_count": null,
   "metadata": {},
   "outputs": [],
   "source": [
    "pred = search.predict(X_CV)\n",
    "acc = accuracy_score(y_CV,pred)\n",
    "rec = recall_score(y_CV,pred)\n",
    "prec = precision_score(y_CV,pred)\n",
    "F1 = f1_score(y_CV,pred)\n",
    "roc_auc = roc_auc_score(y_CV,pred)\n",
    "\n",
    "print('accuracy:{} \\nrecall:{} \\nprecision:{} \\nF1:{} \\nROC_AUC:{}'.format(acc,rec,prec,F1,roc_auc))"
   ]
  },
  {
   "cell_type": "code",
   "execution_count": null,
   "metadata": {},
   "outputs": [],
   "source": []
  }
 ],
 "metadata": {
  "kernelspec": {
   "display_name": "Python 3",
   "language": "python",
   "name": "python3"
  },
  "language_info": {
   "codemirror_mode": {
    "name": "ipython",
    "version": 3
   },
   "file_extension": ".py",
   "mimetype": "text/x-python",
   "name": "python",
   "nbconvert_exporter": "python",
   "pygments_lexer": "ipython3",
   "version": "3.8.5"
  }
 },
 "nbformat": 4,
 "nbformat_minor": 4
}
