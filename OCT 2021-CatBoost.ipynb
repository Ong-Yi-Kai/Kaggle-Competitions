{
 "cells": [
  {
   "cell_type": "code",
   "execution_count": 1,
   "metadata": {},
   "outputs": [
    {
     "data": {
      "text/html": [
       "<style type='text/css'>\n",
       ".datatable table.frame { margin-bottom: 0; }\n",
       ".datatable table.frame thead { border-bottom: none; }\n",
       ".datatable table.frame tr.coltypes td {  color: #FFFFFF;  line-height: 6px;  padding: 0 0.5em;}\n",
       ".datatable .bool    { background: #DDDD99; }\n",
       ".datatable .object  { background: #565656; }\n",
       ".datatable .int     { background: #5D9E5D; }\n",
       ".datatable .float   { background: #4040CC; }\n",
       ".datatable .str     { background: #CC4040; }\n",
       ".datatable .time    { background: #40CC40; }\n",
       ".datatable .row_index {  background: var(--jp-border-color3);  border-right: 1px solid var(--jp-border-color0);  color: var(--jp-ui-font-color3);  font-size: 9px;}\n",
       ".datatable .frame tbody td { text-align: left; }\n",
       ".datatable .frame tr.coltypes .row_index {  background: var(--jp-border-color0);}\n",
       ".datatable th:nth-child(2) { padding-left: 12px; }\n",
       ".datatable .hellipsis {  color: var(--jp-cell-editor-border-color);}\n",
       ".datatable .vellipsis {  background: var(--jp-layout-color0);  color: var(--jp-cell-editor-border-color);}\n",
       ".datatable .na {  color: var(--jp-cell-editor-border-color);  font-size: 80%;}\n",
       ".datatable .sp {  opacity: 0.25;}\n",
       ".datatable .footer { font-size: 9px; }\n",
       ".datatable .frame_dimensions {  background: var(--jp-border-color3);  border-top: 1px solid var(--jp-border-color0);  color: var(--jp-ui-font-color3);  display: inline-block;  opacity: 0.6;  padding: 1px 10px 1px 5px;}\n",
       "</style>\n"
      ],
      "text/plain": [
       "<IPython.core.display.HTML object>"
      ]
     },
     "metadata": {},
     "output_type": "display_data"
    }
   ],
   "source": [
    "import pandas as pd\n",
    "import numpy as np\n",
    "import matplotlib.pyplot as plt\n",
    "import xgboost as xgb\n",
    "import datatable as dt\n",
    "import time\n",
    "\n",
    "from catboost import CatBoostClassifier\n",
    "\n",
    "from numba import jit #to speed up loops\n",
    "\n",
    "from sklearn.model_selection import train_test_split,StratifiedKFold\n",
    "from sklearn.preprocessing import StandardScaler\n",
    "from sklearn.decomposition import PCA\n",
    "from sklearn.feature_selection import SelectKBest, f_regression\n",
    "from sklearn.metrics import roc_auc_score"
   ]
  },
  {
   "cell_type": "code",
   "execution_count": 3,
   "metadata": {},
   "outputs": [
    {
     "name": "stdout",
     "output_type": "stream",
     "text": [
      "DONE LOADING! Time taken:10.33\n"
     ]
    }
   ],
   "source": [
    "# Getting Data from folder\n",
    "start = time.time()\n",
    "train = dt.fread(r\"C:\\Users\\Ong Yi Kai\\Desktop\\Data\\Kaggle competitions\\Tabular Data Oct 2021\\train.csv\").to_pandas()\n",
    "test = dt.fread(r\"C:\\Users\\Ong Yi Kai\\Desktop\\Data\\Kaggle competitions\\Tabular Data Oct 2021\\test.csv\").to_pandas()\n",
    "end = time.time()\n",
    "total_time = end-start\n",
    "print(\"DONE LOADING! Time taken:{:.2f}\".format(total_time))"
   ]
  },
  {
   "cell_type": "markdown",
   "metadata": {},
   "source": [
    "Reducing memeory usage (change data type)"
   ]
  },
  {
   "cell_type": "code",
   "execution_count": null,
   "metadata": {},
   "outputs": [],
   "source": [
    "# this function will help to reduce momory \n",
    "# data will be samller with the same value\n",
    "\n",
    "@jit(forceobj=True)\n",
    "def reduce_mem_usage(df):\n",
    "    \"\"\" iterate through all the columns of a dataframe and modify the data type\n",
    "        to reduce memory usage.        \n",
    "    \"\"\"\n",
    "    start_mem = df.memory_usage().sum() / 1024**2\n",
    "    print('Memory usage of dataframe is {:.2f} MB'.format(start_mem))\n",
    "    for col in df.columns:\n",
    "        col_type = df[col].dtype\n",
    "        \n",
    "        if col_type != object:\n",
    "            c_min = df[col].min()\n",
    "            c_max = df[col].max()\n",
    "            if str(col_type)[:3] == 'int':\n",
    "                if c_min > np.iinfo(np.int8).min and c_max < np.iinfo(np.int8).max:\n",
    "                    df[col] = df[col].astype(np.int8)\n",
    "                elif c_min > np.iinfo(np.int16).min and c_max < np.iinfo(np.int16).max:\n",
    "                    df[col] = df[col].astype(np.int16)\n",
    "                elif c_min > np.iinfo(np.int32).min and c_max < np.iinfo(np.int32).max:\n",
    "                    df[col] = df[col].astype(np.int32)\n",
    "                elif c_min > np.iinfo(np.int64).min and c_max < np.iinfo(np.int64).max:\n",
    "                    df[col] = df[col].astype(np.int64)  \n",
    "            else:\n",
    "                if c_min > np.finfo(np.float16).min and c_max < np.finfo(np.float16).max:\n",
    "                    df[col] = df[col].astype(np.float16)\n",
    "                elif c_min > np.finfo(np.float32).min and c_max < np.finfo(np.float32).max:\n",
    "                    df[col] = df[col].astype(np.float32)\n",
    "                else:\n",
    "                    df[col] = df[col].astype(np.float64)\n",
    "        else:\n",
    "            df[col] = df[col].astype('category')\n",
    "        \n",
    "            \n",
    "    end_mem = df.memory_usage().sum() / 1024**2\n",
    "    print('Memory usage after optimization is: {:.2f} MB'.format(end_mem))\n",
    "    print('Decreased by {:.1f}%'.format(100 * (start_mem - end_mem) / start_mem))\n",
    "    \n",
    "    return df"
   ]
  },
  {
   "cell_type": "code",
   "execution_count": null,
   "metadata": {},
   "outputs": [],
   "source": [
    "#reducing the memory of data types\n",
    "train = reduce_mem_usage(train)\n",
    "test = reduce_mem_usage(test)"
   ]
  },
  {
   "cell_type": "code",
   "execution_count": null,
   "metadata": {},
   "outputs": [],
   "source": [
    "train.head()"
   ]
  },
  {
   "cell_type": "code",
   "execution_count": 4,
   "metadata": {},
   "outputs": [],
   "source": [
    "features = [col for col in test.columns if 'f' in col]\n",
    "TARGET = 'target'\n",
    "\n",
    "target = train.iloc[:,-1:].copy()\n",
    "train = train.drop('target', axis=1)"
   ]
  },
  {
   "cell_type": "code",
   "execution_count": 5,
   "metadata": {},
   "outputs": [],
   "source": [
    "ID_test = test.iloc[:,:1]\n",
    "X_test = test.iloc[:,1:]"
   ]
  },
  {
   "cell_type": "markdown",
   "metadata": {},
   "source": [
    "LIGHT GBM FIT"
   ]
  },
  {
   "cell_type": "code",
   "execution_count": 23,
   "metadata": {},
   "outputs": [],
   "source": [
    "cat_params = {'iterations': 2866,\n",
    " 'od_wait': 3385,\n",
    " 'learning_rate': 0.04280810491488757,\n",
    " 'reg_lambda': 0.32139709692279206,\n",
    " 'subsample': 0.8442605943226449,\n",
    " 'random_strength': 22.468752639603235,\n",
    " 'depth': 4,\n",
    " 'min_data_in_leaf': 31,\n",
    " 'leaf_estimation_iterations': 15\n",
    "             }\n",
    "\n",
    "N_SPLITS = 10\n",
    "N_ESTIMATORS = 5000\n",
    "EARLY_STOPPING_ROUNDS = 100\n",
    "VERBOSE = 500\n",
    "SEED = 2021"
   ]
  },
  {
   "cell_type": "code",
   "execution_count": null,
   "metadata": {},
   "outputs": [
    {
     "name": "stdout",
     "output_type": "stream",
     "text": [
      "===== CatBoostClassifier fold 0 =====\n",
      "training-CV split DONE!\n",
      "0:\tlearn: 0.6808974\ttest: 0.6809157\tbest: 0.6809157 (0)\ttotal: 302ms\tremaining: 14m 26s\n",
      "500:\tlearn: 0.4841184\ttest: 0.4862579\tbest: 0.4862579 (500)\ttotal: 2m 48s\tremaining: 13m 15s\n",
      "1000:\tlearn: 0.4722281\ttest: 0.4751388\tbest: 0.4751388 (1000)\ttotal: 5m 29s\tremaining: 10m 13s\n",
      "1500:\tlearn: 0.4676746\ttest: 0.4717071\tbest: 0.4717071 (1500)\ttotal: 8m 9s\tremaining: 7m 24s\n",
      "2000:\tlearn: 0.4647631\ttest: 0.4700886\tbest: 0.4700886 (2000)\ttotal: 10m 48s\tremaining: 4m 40s\n",
      "2500:\tlearn: 0.4624931\ttest: 0.4693016\tbest: 0.4693002 (2498)\ttotal: 13m 24s\tremaining: 1m 57s\n",
      "2865:\tlearn: 0.4609984\ttest: 0.4689027\tbest: 0.4688998 (2862)\ttotal: 15m 17s\tremaining: 0us\n",
      "\n",
      "bestTest = 0.4688997969\n",
      "bestIteration = 2862\n",
      "\n",
      "Shrink model to first 2863 iterations.\n",
      "fold 0 - cat auc: 0.855690, elapsed time: 950.42sec\n",
      "\n",
      "===== CatBoostClassifier fold 1 =====\n",
      "training-CV split DONE!\n",
      "0:\tlearn: 0.6808831\ttest: 0.6808379\tbest: 0.6808379 (0)\ttotal: 357ms\tremaining: 17m 3s\n",
      "500:\tlearn: 0.4843601\ttest: 0.4844522\tbest: 0.4844522 (500)\ttotal: 2m 56s\tremaining: 13m 54s\n",
      "1000:\tlearn: 0.4724730\ttest: 0.4737730\tbest: 0.4737730 (1000)\ttotal: 5m 43s\tremaining: 10m 40s\n",
      "1500:\tlearn: 0.4679123\ttest: 0.4704478\tbest: 0.4704478 (1500)\ttotal: 8m 26s\tremaining: 7m 40s\n",
      "2000:\tlearn: 0.4649918\ttest: 0.4688466\tbest: 0.4688466 (2000)\ttotal: 11m 6s\tremaining: 4m 48s\n",
      "2500:\tlearn: 0.4626951\ttest: 0.4679646\tbest: 0.4679646 (2498)\ttotal: 13m 41s\tremaining: 1m 59s\n",
      "2865:\tlearn: 0.4612321\ttest: 0.4676221\tbest: 0.4676197 (2862)\ttotal: 15m 34s\tremaining: 0us\n",
      "\n",
      "bestTest = 0.467619717\n",
      "bestIteration = 2862\n",
      "\n",
      "Shrink model to first 2863 iterations.\n",
      "fold 1 - cat auc: 0.856420, elapsed time: 967.91sec\n",
      "\n",
      "===== CatBoostClassifier fold 2 =====\n",
      "training-CV split DONE!\n",
      "0:\tlearn: 0.6808654\ttest: 0.6809910\tbest: 0.6809910 (0)\ttotal: 298ms\tremaining: 14m 12s\n",
      "500:\tlearn: 0.4839633\ttest: 0.4870469\tbest: 0.4870469 (500)\ttotal: 2m 58s\tremaining: 14m 1s\n",
      "1000:\tlearn: 0.4721765\ttest: 0.4758860\tbest: 0.4758860 (1000)\ttotal: 5m 43s\tremaining: 10m 40s\n",
      "1500:\tlearn: 0.4676198\ttest: 0.4723943\tbest: 0.4723943 (1500)\ttotal: 8m 26s\tremaining: 7m 40s\n",
      "2000:\tlearn: 0.4647339\ttest: 0.4707203\tbest: 0.4707203 (2000)\ttotal: 11m 12s\tremaining: 4m 50s\n",
      "2500:\tlearn: 0.4624351\ttest: 0.4698358\tbest: 0.4698358 (2500)\ttotal: 13m 49s\tremaining: 2m 1s\n",
      "2865:\tlearn: 0.4609473\ttest: 0.4694612\tbest: 0.4694605 (2862)\ttotal: 15m 42s\tremaining: 0us\n",
      "\n",
      "bestTest = 0.4694605487\n",
      "bestIteration = 2862\n",
      "\n",
      "Shrink model to first 2863 iterations.\n",
      "fold 2 - cat auc: 0.855308, elapsed time: 976.05sec\n",
      "\n",
      "===== CatBoostClassifier fold 3 =====\n",
      "training-CV split DONE!\n",
      "0:\tlearn: 0.6808866\ttest: 0.6808079\tbest: 0.6808079 (0)\ttotal: 305ms\tremaining: 14m 33s\n",
      "500:\tlearn: 0.4845367\ttest: 0.4833650\tbest: 0.4833650 (500)\ttotal: 3m\tremaining: 14m 13s\n",
      "1000:\tlearn: 0.4726208\ttest: 0.4725418\tbest: 0.4725418 (1000)\ttotal: 5m 48s\tremaining: 10m 48s\n",
      "1500:\tlearn: 0.4680608\ttest: 0.4692024\tbest: 0.4692024 (1500)\ttotal: 8m 48s\tremaining: 8m\n",
      "2000:\tlearn: 0.4651364\ttest: 0.4676551\tbest: 0.4676551 (2000)\ttotal: 12m 9s\tremaining: 5m 15s\n",
      "2500:\tlearn: 0.4628335\ttest: 0.4668214\tbest: 0.4668214 (2500)\ttotal: 15m 27s\tremaining: 2m 15s\n",
      "2865:\tlearn: 0.4613334\ttest: 0.4664083\tbest: 0.4664076 (2863)\ttotal: 17m 43s\tremaining: 0us\n",
      "\n",
      "bestTest = 0.4664076286\n",
      "bestIteration = 2863\n",
      "\n",
      "Shrink model to first 2864 iterations.\n",
      "fold 3 - cat auc: 0.857444, elapsed time: 1098.19sec\n",
      "\n",
      "===== CatBoostClassifier fold 4 =====\n",
      "training-CV split DONE!\n",
      "0:\tlearn: 0.6808813\ttest: 0.6808748\tbest: 0.6808748 (0)\ttotal: 383ms\tremaining: 18m 18s\n",
      "500:\tlearn: 0.4843605\ttest: 0.4857219\tbest: 0.4857219 (500)\ttotal: 3m 43s\tremaining: 17m 33s\n",
      "1000:\tlearn: 0.4723540\ttest: 0.4750861\tbest: 0.4750861 (1000)\ttotal: 7m 13s\tremaining: 13m 28s\n",
      "1500:\tlearn: 0.4677454\ttest: 0.4719112\tbest: 0.4719094 (1499)\ttotal: 10m 20s\tremaining: 9m 24s\n",
      "2000:\tlearn: 0.4647971\ttest: 0.4703850\tbest: 0.4703850 (2000)\ttotal: 14m 18s\tremaining: 6m 11s\n",
      "2500:\tlearn: 0.4624934\ttest: 0.4696278\tbest: 0.4696278 (2500)\ttotal: 18m 9s\tremaining: 2m 39s\n",
      "2865:\tlearn: 0.4610058\ttest: 0.4692433\tbest: 0.4692419 (2864)\ttotal: 20m 45s\tremaining: 0us\n",
      "\n",
      "bestTest = 0.4692419128\n",
      "bestIteration = 2864\n",
      "\n",
      "Shrink model to first 2865 iterations.\n",
      "fold 4 - cat auc: 0.855405, elapsed time: 1285.85sec\n",
      "\n",
      "===== CatBoostClassifier fold 5 =====\n",
      "training-CV split DONE!\n",
      "0:\tlearn: 0.6808813\ttest: 0.6808619\tbest: 0.6808619 (0)\ttotal: 385ms\tremaining: 18m 21s\n",
      "500:\tlearn: 0.4843378\ttest: 0.4857199\tbest: 0.4857199 (500)\ttotal: 4m 15s\tremaining: 20m 6s\n",
      "1000:\tlearn: 0.4723327\ttest: 0.4748278\tbest: 0.4748278 (1000)\ttotal: 7m 16s\tremaining: 13m 33s\n",
      "1500:\tlearn: 0.4677718\ttest: 0.4714459\tbest: 0.4714459 (1500)\ttotal: 10m 59s\tremaining: 9m 59s\n",
      "2000:\tlearn: 0.4648369\ttest: 0.4698953\tbest: 0.4698953 (2000)\ttotal: 14m 12s\tremaining: 6m 8s\n"
     ]
    }
   ],
   "source": [
    "cat_pred = np.zeros(test.shape[0])\n",
    "\n",
    "skf = StratifiedKFold(n_splits=N_SPLITS, shuffle=True, random_state=SEED)\n",
    "\n",
    "for fold, (trn_idx, val_idx) in enumerate(skf.split(X=train, y=target)):\n",
    "    print(f\"===== CatBoostClassifier fold {fold} =====\")\n",
    "    X_train = train[features].iloc[trn_idx]\n",
    "    y_train = target.iloc[trn_idx]\n",
    "    X_valid = train[features].iloc[val_idx]\n",
    "    y_valid = target.iloc[val_idx]\n",
    "    print(\"training-CV split DONE!\")\n",
    "    start = time.time()\n",
    "    model = CatBoostClassifier(**cat_params)\n",
    "    model.fit(\n",
    "        X_train, \n",
    "        y_train,\n",
    "        eval_set=[(X_valid, y_valid)],\n",
    "        early_stopping_rounds=EARLY_STOPPING_ROUNDS,\n",
    "        verbose=VERBOSE,\n",
    "    )\n",
    "\n",
    "    pred = model.predict_proba(X_valid)[:, -1]\n",
    "    cat_pred += model.predict_proba(X_test)[:, -1] / N_SPLITS\n",
    "\n",
    "    elapsed = time.time() - start\n",
    "    auc = roc_auc_score(y_valid, pred)\n",
    "    print(f\"fold {fold} - cat auc: {auc:.6f}, elapsed time: {elapsed:.2f}sec\\n\")"
   ]
  },
  {
   "cell_type": "markdown",
   "metadata": {},
   "source": [
    "GET RESULTS FOR SUBMISSION"
   ]
  },
  {
   "cell_type": "code",
   "execution_count": 16,
   "metadata": {},
   "outputs": [
    {
     "data": {
      "text/plain": [
       "array([[0.22691564, 0.77308436],\n",
       "       [0.74979458, 0.25020542],\n",
       "       [0.09013634, 0.90986366],\n",
       "       ...,\n",
       "       [0.69432056, 0.30567944],\n",
       "       [0.48345983, 0.51654017],\n",
       "       [0.58040396, 0.41959604]])"
      ]
     },
     "execution_count": 16,
     "metadata": {},
     "output_type": "execute_result"
    }
   ],
   "source": [
    "submission_proba = model.predict_proba(X_test)\n",
    "submission_proba"
   ]
  },
  {
   "cell_type": "code",
   "execution_count": 20,
   "metadata": {},
   "outputs": [
    {
     "data": {
      "text/plain": [
       "(500000, 2)"
      ]
     },
     "execution_count": 20,
     "metadata": {},
     "output_type": "execute_result"
    }
   ],
   "source": [
    "submit_final = pd.concat([ID_test,pd.DataFrame(submission_proba[:,1])],axis=1)\n",
    "submit_final.shape"
   ]
  },
  {
   "cell_type": "code",
   "execution_count": 21,
   "metadata": {},
   "outputs": [],
   "source": [
    "submit_final.to_csv('oct_{}_lightgbm_.csv'.format(time.time()),index=False,header=['id','target'])"
   ]
  },
  {
   "cell_type": "code",
   "execution_count": 22,
   "metadata": {},
   "outputs": [],
   "source": [
    "#0.855..."
   ]
  },
  {
   "cell_type": "code",
   "execution_count": null,
   "metadata": {},
   "outputs": [],
   "source": []
  }
 ],
 "metadata": {
  "kernelspec": {
   "display_name": "Python 3",
   "language": "python",
   "name": "python3"
  },
  "language_info": {
   "codemirror_mode": {
    "name": "ipython",
    "version": 3
   },
   "file_extension": ".py",
   "mimetype": "text/x-python",
   "name": "python",
   "nbconvert_exporter": "python",
   "pygments_lexer": "ipython3",
   "version": "3.8.5"
  }
 },
 "nbformat": 4,
 "nbformat_minor": 4
}
