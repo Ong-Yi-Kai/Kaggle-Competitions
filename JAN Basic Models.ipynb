{
 "cells": [
  {
   "cell_type": "code",
   "execution_count": 1,
   "metadata": {},
   "outputs": [],
   "source": [
    "import pandas as pd\n",
    "import numpy as np\n",
    "import matplotlib.pyplot as plt\n",
    "\n",
    "from sklearn.model_selection import train_test_split\n",
    "from sklearn.linear_model import LinearRegression\n",
    "from sklearn.metrics import mean_squared_error\n",
    "\n",
    "import plotly.express as px\n",
    "\n",
    "plt.style.use('seaborn')"
   ]
  },
  {
   "cell_type": "code",
   "execution_count": 2,
   "metadata": {},
   "outputs": [],
   "source": [
    "train = pd.read_csv('train.csv')\n",
    "test = pd.read_csv('test.csv')"
   ]
  },
  {
   "cell_type": "code",
   "execution_count": 3,
   "metadata": {},
   "outputs": [
    {
     "data": {
      "text/html": [
       "<div>\n",
       "<style scoped>\n",
       "    .dataframe tbody tr th:only-of-type {\n",
       "        vertical-align: middle;\n",
       "    }\n",
       "\n",
       "    .dataframe tbody tr th {\n",
       "        vertical-align: top;\n",
       "    }\n",
       "\n",
       "    .dataframe thead th {\n",
       "        text-align: right;\n",
       "    }\n",
       "</style>\n",
       "<table border=\"1\" class=\"dataframe\">\n",
       "  <thead>\n",
       "    <tr style=\"text-align: right;\">\n",
       "      <th></th>\n",
       "      <th>id</th>\n",
       "      <th>cont1</th>\n",
       "      <th>cont2</th>\n",
       "      <th>cont3</th>\n",
       "      <th>cont4</th>\n",
       "      <th>cont5</th>\n",
       "      <th>cont6</th>\n",
       "      <th>cont7</th>\n",
       "      <th>cont8</th>\n",
       "      <th>cont9</th>\n",
       "      <th>cont10</th>\n",
       "      <th>cont11</th>\n",
       "      <th>cont12</th>\n",
       "      <th>cont13</th>\n",
       "      <th>cont14</th>\n",
       "      <th>target</th>\n",
       "    </tr>\n",
       "  </thead>\n",
       "  <tbody>\n",
       "    <tr>\n",
       "      <th>0</th>\n",
       "      <td>1</td>\n",
       "      <td>0.670390</td>\n",
       "      <td>0.811300</td>\n",
       "      <td>0.643968</td>\n",
       "      <td>0.291791</td>\n",
       "      <td>0.284117</td>\n",
       "      <td>0.855953</td>\n",
       "      <td>0.890700</td>\n",
       "      <td>0.285542</td>\n",
       "      <td>0.558245</td>\n",
       "      <td>0.779418</td>\n",
       "      <td>0.921832</td>\n",
       "      <td>0.866772</td>\n",
       "      <td>0.878733</td>\n",
       "      <td>0.305411</td>\n",
       "      <td>7.243043</td>\n",
       "    </tr>\n",
       "    <tr>\n",
       "      <th>1</th>\n",
       "      <td>3</td>\n",
       "      <td>0.388053</td>\n",
       "      <td>0.621104</td>\n",
       "      <td>0.686102</td>\n",
       "      <td>0.501149</td>\n",
       "      <td>0.643790</td>\n",
       "      <td>0.449805</td>\n",
       "      <td>0.510824</td>\n",
       "      <td>0.580748</td>\n",
       "      <td>0.418335</td>\n",
       "      <td>0.432632</td>\n",
       "      <td>0.439872</td>\n",
       "      <td>0.434971</td>\n",
       "      <td>0.369957</td>\n",
       "      <td>0.369484</td>\n",
       "      <td>8.203331</td>\n",
       "    </tr>\n",
       "    <tr>\n",
       "      <th>2</th>\n",
       "      <td>4</td>\n",
       "      <td>0.834950</td>\n",
       "      <td>0.227436</td>\n",
       "      <td>0.301584</td>\n",
       "      <td>0.293408</td>\n",
       "      <td>0.606839</td>\n",
       "      <td>0.829175</td>\n",
       "      <td>0.506143</td>\n",
       "      <td>0.558771</td>\n",
       "      <td>0.587603</td>\n",
       "      <td>0.823312</td>\n",
       "      <td>0.567007</td>\n",
       "      <td>0.677708</td>\n",
       "      <td>0.882938</td>\n",
       "      <td>0.303047</td>\n",
       "      <td>7.776091</td>\n",
       "    </tr>\n",
       "    <tr>\n",
       "      <th>3</th>\n",
       "      <td>5</td>\n",
       "      <td>0.820708</td>\n",
       "      <td>0.160155</td>\n",
       "      <td>0.546887</td>\n",
       "      <td>0.726104</td>\n",
       "      <td>0.282444</td>\n",
       "      <td>0.785108</td>\n",
       "      <td>0.752758</td>\n",
       "      <td>0.823267</td>\n",
       "      <td>0.574466</td>\n",
       "      <td>0.580843</td>\n",
       "      <td>0.769594</td>\n",
       "      <td>0.818143</td>\n",
       "      <td>0.914281</td>\n",
       "      <td>0.279528</td>\n",
       "      <td>6.957716</td>\n",
       "    </tr>\n",
       "    <tr>\n",
       "      <th>4</th>\n",
       "      <td>8</td>\n",
       "      <td>0.935278</td>\n",
       "      <td>0.421235</td>\n",
       "      <td>0.303801</td>\n",
       "      <td>0.880214</td>\n",
       "      <td>0.665610</td>\n",
       "      <td>0.830131</td>\n",
       "      <td>0.487113</td>\n",
       "      <td>0.604157</td>\n",
       "      <td>0.874658</td>\n",
       "      <td>0.863427</td>\n",
       "      <td>0.983575</td>\n",
       "      <td>0.900464</td>\n",
       "      <td>0.935918</td>\n",
       "      <td>0.435772</td>\n",
       "      <td>7.951046</td>\n",
       "    </tr>\n",
       "  </tbody>\n",
       "</table>\n",
       "</div>"
      ],
      "text/plain": [
       "   id     cont1     cont2     cont3     cont4     cont5     cont6     cont7  \\\n",
       "0   1  0.670390  0.811300  0.643968  0.291791  0.284117  0.855953  0.890700   \n",
       "1   3  0.388053  0.621104  0.686102  0.501149  0.643790  0.449805  0.510824   \n",
       "2   4  0.834950  0.227436  0.301584  0.293408  0.606839  0.829175  0.506143   \n",
       "3   5  0.820708  0.160155  0.546887  0.726104  0.282444  0.785108  0.752758   \n",
       "4   8  0.935278  0.421235  0.303801  0.880214  0.665610  0.830131  0.487113   \n",
       "\n",
       "      cont8     cont9    cont10    cont11    cont12    cont13    cont14  \\\n",
       "0  0.285542  0.558245  0.779418  0.921832  0.866772  0.878733  0.305411   \n",
       "1  0.580748  0.418335  0.432632  0.439872  0.434971  0.369957  0.369484   \n",
       "2  0.558771  0.587603  0.823312  0.567007  0.677708  0.882938  0.303047   \n",
       "3  0.823267  0.574466  0.580843  0.769594  0.818143  0.914281  0.279528   \n",
       "4  0.604157  0.874658  0.863427  0.983575  0.900464  0.935918  0.435772   \n",
       "\n",
       "     target  \n",
       "0  7.243043  \n",
       "1  8.203331  \n",
       "2  7.776091  \n",
       "3  6.957716  \n",
       "4  7.951046  "
      ]
     },
     "execution_count": 3,
     "metadata": {},
     "output_type": "execute_result"
    }
   ],
   "source": [
    "train.head()"
   ]
  },
  {
   "cell_type": "markdown",
   "metadata": {},
   "source": [
    "# Remove Outliers and Null values"
   ]
  },
  {
   "cell_type": "code",
   "execution_count": 4,
   "metadata": {},
   "outputs": [
    {
     "data": {
      "text/plain": [
       "False"
      ]
     },
     "execution_count": 4,
     "metadata": {},
     "output_type": "execute_result"
    }
   ],
   "source": [
    "train.isnull().any().any()"
   ]
  },
  {
   "cell_type": "code",
   "execution_count": 5,
   "metadata": {},
   "outputs": [
    {
     "name": "stdout",
     "output_type": "stream",
     "text": [
      "Initial number of data points: 300000\n",
      "Final number of data points: 288119\n"
     ]
    }
   ],
   "source": [
    "#clip out extreme values\n",
    "print(f'Initial number of data points: {train.shape[0]}')\n",
    "lower_quantile, upper_quantile = train[['cont7','cont9']].quantile(0.01), train[['cont7','cont9']].quantile(0.99)\n",
    "train = train[(train['cont7']>lower_quantile[0])&(train['cont7']<upper_quantile[0])&(train['cont9']>lower_quantile[1])&(train['cont9']<upper_quantile[1])]\n",
    "train = train.reset_index()\n",
    "print(f'Final number of data points: {train.shape[0]}')"
   ]
  },
  {
   "cell_type": "code",
   "execution_count": 6,
   "metadata": {},
   "outputs": [],
   "source": [
    "# split into id, features and target\n",
    "train_id = train['id']\n",
    "train_features = train[[col for col in train.columns if 'cont' in str(col)]]\n",
    "train_target = train['target']\n",
    "\n",
    "test_id = test['id']\n",
    "test_features = test[[col for col in test.columns if 'cont' in str(col)]]\n",
    "\n",
    "feature_names = [col for col in train.columns if 'cont' in str(col)]"
   ]
  },
  {
   "cell_type": "markdown",
   "metadata": {},
   "source": [
    "# Base Model"
   ]
  },
  {
   "cell_type": "code",
   "execution_count": 7,
   "metadata": {},
   "outputs": [],
   "source": [
    "def get_rmse(features,target,feature_names):\n",
    "    x_train, x_val, y_train, y_val = train_test_split(features[feature_names],target,test_size=0.2,random_state=2021)\n",
    "    lr = LinearRegression()\n",
    "    model = lr.fit(x_train,y_train)\n",
    "    predictions = model.predict(x_val)\n",
    "    rmse = mean_squared_error(y_val,predictions,squared=False)\n",
    "    print(f'The Root Mean Squared Error is {rmse:.5f}')"
   ]
  },
  {
   "cell_type": "code",
   "execution_count": 8,
   "metadata": {},
   "outputs": [
    {
     "name": "stdout",
     "output_type": "stream",
     "text": [
      "The Root Mean Squared Error is 0.72592\n"
     ]
    }
   ],
   "source": [
    "get_rmse(train_features,train_target,feature_names)"
   ]
  },
  {
   "cell_type": "markdown",
   "metadata": {},
   "source": [
    "# Without cont6 due to high correlation"
   ]
  },
  {
   "cell_type": "markdown",
   "metadata": {},
   "source": [
    "taking out cont6 does not help the model"
   ]
  },
  {
   "cell_type": "code",
   "execution_count": 9,
   "metadata": {},
   "outputs": [
    {
     "name": "stdout",
     "output_type": "stream",
     "text": [
      "The Root Mean Squared Error is 0.72653\n"
     ]
    }
   ],
   "source": [
    "without_cont6_feature_names = [feat for feat in feature_names if feat not in ('cont6')]\n",
    "get_rmse(train_features,train_target,without_cont6_feature_names)"
   ]
  },
  {
   "cell_type": "markdown",
   "metadata": {},
   "source": [
    "# Using Features with higher coefficients in LR model"
   ]
  },
  {
   "cell_type": "markdown",
   "metadata": {},
   "source": [
    "Lower coefficients could mean that the feature is not as important and model is trying to reduce the noise. we could make this assumption as the features are scaled to the same mean and standard deviation, which could be seen from the describtive satatistics. By taking these features out, we might be removing noise and hopefully improve the model's performance. From the below plot, it is evident that cont5 and cont14 have lower coefficients, let's remove them and see how the model performs"
   ]
  },
  {
   "cell_type": "code",
   "execution_count": 10,
   "metadata": {},
   "outputs": [
    {
     "data": {
      "text/plain": [
       "Text(0.5, 1.0, 'Coefficients of linear regression')"
      ]
     },
     "execution_count": 10,
     "metadata": {},
     "output_type": "execute_result"
    },
    {
     "data": {
      "image/png": "[encoded data removed]",
      "text/plain": [
       "<Figure size 864x576 with 1 Axes>"
      ]
     },
     "metadata": {},
     "output_type": "display_data"
    }
   ],
   "source": [
    "x_train, x_val, y_train, y_val = train_test_split(train_features[feature_names],train_target,test_size=0.2,random_state=2021)\n",
    "lr = LinearRegression()\n",
    "model = lr.fit(x_train,y_train)\n",
    "fig = pd.DataFrame(abs(model.coef_)).plot(kind='bar',legend=False,figsize=(12,8))\n",
    "fig.set_title('Coefficients of linear regression',fontsize=16)"
   ]
  },
  {
   "cell_type": "code",
   "execution_count": 11,
   "metadata": {},
   "outputs": [
    {
     "name": "stdout",
     "output_type": "stream",
     "text": [
      "The Root Mean Squared Error is 0.72594\n"
     ]
    }
   ],
   "source": [
    "high_coef_feature_names = [feat for feat in feature_names if feat not in ('cont5','cont14')]\n",
    "get_rmse(train_features,train_target,high_coef_feature_names)"
   ]
  },
  {
   "cell_type": "markdown",
   "metadata": {},
   "source": [
    "No help at all"
   ]
  },
  {
   "cell_type": "markdown",
   "metadata": {},
   "source": [
    "# Sharp Peaks in Cont2 and Cont3"
   ]
  },
  {
   "cell_type": "markdown",
   "metadata": {},
   "source": [
    "we could now focus our attention to the peaks in cont2 and cont3 and try to see if that helps our model"
   ]
  },
  {
   "cell_type": "code",
   "execution_count": 12,
   "metadata": {},
   "outputs": [],
   "source": [
    "#fig =px.histogram(train,x='cont2',opacity=0.3,nbins=100)\n",
    "#fig.update_layout(title='Cont2 Histogram Plot')\n",
    "#fig.show()"
   ]
  },
  {
   "attachments": {
    "cont2%20histogram%20plot.png": {
     "image/png": "[encoded data removed]"
    }
   },
   "cell_type": "markdown",
   "metadata": {},
   "source": [
    "![cont2%20histogram%20plot.png](attachment:cont2%20histogram%20plot.png)"
   ]
  },
  {
   "cell_type": "code",
   "execution_count": 13,
   "metadata": {},
   "outputs": [],
   "source": [
    "#fig =px.histogram(train,x='cont3',opacity=0.3,nbins=100,title='cont3 Histogram')\n",
    "#fig.show()"
   ]
  },
  {
   "attachments": {
    "cont3%20histogram%20plot.png": {
     "image/png": "[encoded data removed]"
    }
   },
   "cell_type": "markdown",
   "metadata": {},
   "source": [
    "![cont3%20histogram%20plot.png](attachment:cont3%20histogram%20plot.png)"
   ]
  },
  {
   "cell_type": "code",
   "execution_count": 14,
   "metadata": {},
   "outputs": [],
   "source": [
    "peak_train = train.copy()\n",
    "feat = peak_train['cont2']\n",
    "peak_train['cont2_int'] = np.where((feat<0.35),0,-1)\n",
    "peak_train['cont2_int'] = np.where((feat>0.35)&(feat<0.37),1,peak_train['cont2_int'])\n",
    "peak_train['cont2_int'] = np.where((feat>0.41)&(feat<0.43),2,peak_train['cont2_int'])\n",
    "peak_train['cont2_int'] = np.where((feat>0.48)&(feat<0.50),3,peak_train['cont2_int'])\n",
    "peak_train['cont2_int'] = np.where((feat>0.55)&(feat<0.56),4,peak_train['cont2_int'])\n",
    "peak_train['cont2_int'] = np.where((feat>0.61)&(feat<0.63),5,peak_train['cont2_int'])\n",
    "peak_train['cont2_int'] = np.where((feat>0.67)&(feat<0.69),6,peak_train['cont2_int'])\n",
    "peak_train['cont2_int'] = np.where((feat>0.73)&(feat<0.75),7,peak_train['cont2_int'])\n",
    "peak_train['cont2_int'] = np.where((feat>0.75),8,peak_train['cont2_int'])"
   ]
  },
  {
   "cell_type": "code",
   "execution_count": 15,
   "metadata": {},
   "outputs": [],
   "source": [
    "peak_train['cont3_int'] = (peak_train['cont3']>0.54)&(peak_train['cont3']<0.56)"
   ]
  },
  {
   "cell_type": "code",
   "execution_count": 16,
   "metadata": {},
   "outputs": [
    {
     "name": "stdout",
     "output_type": "stream",
     "text": [
      "Na in cont2_int: False\n",
      "Na in cont3_int: False\n"
     ]
    }
   ],
   "source": [
    "na_cont2_int = peak_train['cont2_int'].isna().any()\n",
    "na_cont3_int = peak_train['cont3_int'].isna().any()\n",
    "print(f'Na in cont2_int: {na_cont2_int}')\n",
    "print(f'Na in cont3_int: {na_cont3_int}')"
   ]
  },
  {
   "cell_type": "code",
   "execution_count": 17,
   "metadata": {},
   "outputs": [
    {
     "name": "stdout",
     "output_type": "stream",
     "text": [
      "The Root Mean Squared Error is 0.72594\n"
     ]
    }
   ],
   "source": [
    "peak_feature_names = [col for col in peak_train.columns if 'cont' in str(col)]\n",
    "get_rmse(train_features,train_target,high_coef_feature_names)"
   ]
  },
  {
   "cell_type": "markdown",
   "metadata": {},
   "source": [
    "no improvement as well :("
   ]
  },
  {
   "cell_type": "markdown",
   "metadata": {},
   "source": [
    "# Log Transform"
   ]
  },
  {
   "cell_type": "code",
   "execution_count": 18,
   "metadata": {},
   "outputs": [
    {
     "name": "stdout",
     "output_type": "stream",
     "text": [
      "Presence of any NA values: False\n",
      "The Root Mean Squared Error is 0.72254\n"
     ]
    }
   ],
   "source": [
    "log_train_features = train_features.copy()\n",
    "for col in feature_names:\n",
    "    log_train_features[f'log_{col}'] = np.log(np.square(log_train_features[col])**(0.5)+0.01)\n",
    "\n",
    "na_values_presence = log_train_features.isna().any().any()\n",
    "print(f'Presence of any NA values: {na_values_presence}')\n",
    "\n",
    "log_train_feature_names = [col for col in log_train_features.columns if 'cont' in str(col)]\n",
    "get_rmse(log_train_features,train_target,log_train_feature_names)"
   ]
  },
  {
   "cell_type": "markdown",
   "metadata": {},
   "source": [
    "There are improvements in using a log features along side the orginial"
   ]
  },
  {
   "cell_type": "markdown",
   "metadata": {},
   "source": [
    "# BOX-COX Transform"
   ]
  },
  {
   "cell_type": "markdown",
   "metadata": {},
   "source": [
    "A Box Cox transformation is a transformation of non-normal dependent variables into a normal shape"
   ]
  },
  {
   "cell_type": "code",
   "execution_count": 19,
   "metadata": {},
   "outputs": [
    {
     "name": "stdout",
     "output_type": "stream",
     "text": [
      "The Root Mean Squared Error is 0.72223\n"
     ]
    }
   ],
   "source": [
    "from scipy.stats import boxcox\n",
    "\n",
    "BC_train_features = train_features.copy()\n",
    "for feat in feature_names:\n",
    "    BC_train_features[f'bc_{feat}'],_ = boxcox(np.sqrt(BC_train_features[feat]**2))\n",
    "\n",
    "BC_train_feature_names = [feat for feat in BC_train_features if 'cont' in str(feat)]\n",
    "get_rmse(BC_train_features,train_target,BC_train_feature_names)"
   ]
  },
  {
   "cell_type": "markdown",
   "metadata": {},
   "source": [
    "There are significant improvements in using a box cox features along side the orginial"
   ]
  },
  {
   "cell_type": "markdown",
   "metadata": {},
   "source": [
    "# PCA"
   ]
  },
  {
   "cell_type": "markdown",
   "metadata": {},
   "source": [
    "To reduce the dimension of your feature space ao that we have fewer relationships between variables to consider and are less likely to overfit our model. "
   ]
  },
  {
   "cell_type": "markdown",
   "metadata": {},
   "source": [
    "Principal component analysis is a technique for feature extraction — so it combines our input variables in a specific way, then we can drop the “least important” variables while still retaining the most valuable parts of all of the variables!"
   ]
  },
  {
   "cell_type": "code",
   "execution_count": 23,
   "metadata": {},
   "outputs": [],
   "source": [
    "from sklearn.decomposition import PCA\n",
    "\n",
    "pca_train_features = train_features.copy()\n",
    "pca = PCA(n_components='mle')\n",
    "pca_components = pd.DataFrame(pca.fit_transform(pca_train_features[feature_names]))\n",
    "pca_components.columns = [f'pca_cont{i}' for i in range(pca_components.shape[1])]\n",
    "pca_train_features = pd.concat([pca_train_features,pca_components],axis=1)"
   ]
  },
  {
   "cell_type": "code",
   "execution_count": 24,
   "metadata": {},
   "outputs": [
    {
     "name": "stdout",
     "output_type": "stream",
     "text": [
      "The Root Mean Squared Error is 0.72658\n"
     ]
    }
   ],
   "source": [
    "pca_train_features_names = [feat for feat in pca_train_features.columns if 'pca_cont' in str(feat)]\n",
    "get_rmse(pca_train_features,train_target,pca_train_features_names)"
   ]
  },
  {
   "cell_type": "markdown",
   "metadata": {},
   "source": [
    "NOPE not improving"
   ]
  },
  {
   "cell_type": "markdown",
   "metadata": {},
   "source": [
    "# Combining BOX-COX and Log Transform"
   ]
  },
  {
   "cell_type": "code",
   "execution_count": 25,
   "metadata": {},
   "outputs": [
    {
     "data": {
      "text/html": [
       "<div>\n",
       "<style scoped>\n",
       "    .dataframe tbody tr th:only-of-type {\n",
       "        vertical-align: middle;\n",
       "    }\n",
       "\n",
       "    .dataframe tbody tr th {\n",
       "        vertical-align: top;\n",
       "    }\n",
       "\n",
       "    .dataframe thead th {\n",
       "        text-align: right;\n",
       "    }\n",
       "</style>\n",
       "<table border=\"1\" class=\"dataframe\">\n",
       "  <thead>\n",
       "    <tr style=\"text-align: right;\">\n",
       "      <th></th>\n",
       "      <th>cont1</th>\n",
       "      <th>cont2</th>\n",
       "      <th>cont3</th>\n",
       "      <th>cont4</th>\n",
       "      <th>cont5</th>\n",
       "      <th>cont6</th>\n",
       "      <th>cont7</th>\n",
       "      <th>cont8</th>\n",
       "      <th>cont9</th>\n",
       "      <th>cont10</th>\n",
       "      <th>...</th>\n",
       "      <th>bc_cont5</th>\n",
       "      <th>bc_cont6</th>\n",
       "      <th>bc_cont7</th>\n",
       "      <th>bc_cont8</th>\n",
       "      <th>bc_cont9</th>\n",
       "      <th>bc_cont10</th>\n",
       "      <th>bc_cont11</th>\n",
       "      <th>bc_cont12</th>\n",
       "      <th>bc_cont13</th>\n",
       "      <th>bc_cont14</th>\n",
       "    </tr>\n",
       "  </thead>\n",
       "  <tbody>\n",
       "    <tr>\n",
       "      <th>0</th>\n",
       "      <td>0.670390</td>\n",
       "      <td>0.811300</td>\n",
       "      <td>0.643968</td>\n",
       "      <td>0.291791</td>\n",
       "      <td>0.284117</td>\n",
       "      <td>0.855953</td>\n",
       "      <td>0.890700</td>\n",
       "      <td>0.285542</td>\n",
       "      <td>0.558245</td>\n",
       "      <td>0.779418</td>\n",
       "      <td>...</td>\n",
       "      <td>-1.627804</td>\n",
       "      <td>-0.153681</td>\n",
       "      <td>-0.115569</td>\n",
       "      <td>-1.418084</td>\n",
       "      <td>-0.559096</td>\n",
       "      <td>-0.239063</td>\n",
       "      <td>-0.080440</td>\n",
       "      <td>-0.139456</td>\n",
       "      <td>-0.128049</td>\n",
       "      <td>-1.066188</td>\n",
       "    </tr>\n",
       "    <tr>\n",
       "      <th>1</th>\n",
       "      <td>0.388053</td>\n",
       "      <td>0.621104</td>\n",
       "      <td>0.686102</td>\n",
       "      <td>0.501149</td>\n",
       "      <td>0.643790</td>\n",
       "      <td>0.449805</td>\n",
       "      <td>0.510824</td>\n",
       "      <td>0.580748</td>\n",
       "      <td>0.418335</td>\n",
       "      <td>0.432632</td>\n",
       "      <td>...</td>\n",
       "      <td>-0.480786</td>\n",
       "      <td>-0.751483</td>\n",
       "      <td>-0.665763</td>\n",
       "      <td>-0.572981</td>\n",
       "      <td>-0.818871</td>\n",
       "      <td>-0.730296</td>\n",
       "      <td>-0.730866</td>\n",
       "      <td>-0.722043</td>\n",
       "      <td>-0.924849</td>\n",
       "      <td>-0.910200</td>\n",
       "    </tr>\n",
       "    <tr>\n",
       "      <th>2</th>\n",
       "      <td>0.834950</td>\n",
       "      <td>0.227436</td>\n",
       "      <td>0.301584</td>\n",
       "      <td>0.293408</td>\n",
       "      <td>0.606839</td>\n",
       "      <td>0.829175</td>\n",
       "      <td>0.506143</td>\n",
       "      <td>0.558771</td>\n",
       "      <td>0.587603</td>\n",
       "      <td>0.823312</td>\n",
       "      <td>...</td>\n",
       "      <td>-0.551883</td>\n",
       "      <td>-0.184632</td>\n",
       "      <td>-0.674803</td>\n",
       "      <td>-0.615988</td>\n",
       "      <td>-0.511805</td>\n",
       "      <td>-0.188209</td>\n",
       "      <td>-0.523199</td>\n",
       "      <td>-0.363685</td>\n",
       "      <td>-0.123363</td>\n",
       "      <td>-1.072438</td>\n",
       "    </tr>\n",
       "    <tr>\n",
       "      <th>3</th>\n",
       "      <td>0.820708</td>\n",
       "      <td>0.160155</td>\n",
       "      <td>0.546887</td>\n",
       "      <td>0.726104</td>\n",
       "      <td>0.282444</td>\n",
       "      <td>0.785108</td>\n",
       "      <td>0.752758</td>\n",
       "      <td>0.823267</td>\n",
       "      <td>0.574466</td>\n",
       "      <td>0.580843</td>\n",
       "      <td>...</td>\n",
       "      <td>-1.637502</td>\n",
       "      <td>-0.237457</td>\n",
       "      <td>-0.282941</td>\n",
       "      <td>-0.198174</td>\n",
       "      <td>-0.532711</td>\n",
       "      <td>-0.496592</td>\n",
       "      <td>-0.252202</td>\n",
       "      <td>-0.193822</td>\n",
       "      <td>-0.089027</td>\n",
       "      <td>-1.136891</td>\n",
       "    </tr>\n",
       "    <tr>\n",
       "      <th>4</th>\n",
       "      <td>0.935278</td>\n",
       "      <td>0.421235</td>\n",
       "      <td>0.303801</td>\n",
       "      <td>0.880214</td>\n",
       "      <td>0.665610</td>\n",
       "      <td>0.830131</td>\n",
       "      <td>0.487113</td>\n",
       "      <td>0.604157</td>\n",
       "      <td>0.874658</td>\n",
       "      <td>0.863427</td>\n",
       "      <td>...</td>\n",
       "      <td>-0.441414</td>\n",
       "      <td>-0.183514</td>\n",
       "      <td>-0.712420</td>\n",
       "      <td>-0.529258</td>\n",
       "      <td>-0.132635</td>\n",
       "      <td>-0.143284</td>\n",
       "      <td>-0.016522</td>\n",
       "      <td>-0.102942</td>\n",
       "      <td>-0.065905</td>\n",
       "      <td>-0.770578</td>\n",
       "    </tr>\n",
       "  </tbody>\n",
       "</table>\n",
       "<p>5 rows × 42 columns</p>\n",
       "</div>"
      ],
      "text/plain": [
       "      cont1     cont2     cont3     cont4     cont5     cont6     cont7  \\\n",
       "0  0.670390  0.811300  0.643968  0.291791  0.284117  0.855953  0.890700   \n",
       "1  0.388053  0.621104  0.686102  0.501149  0.643790  0.449805  0.510824   \n",
       "2  0.834950  0.227436  0.301584  0.293408  0.606839  0.829175  0.506143   \n",
       "3  0.820708  0.160155  0.546887  0.726104  0.282444  0.785108  0.752758   \n",
       "4  0.935278  0.421235  0.303801  0.880214  0.665610  0.830131  0.487113   \n",
       "\n",
       "      cont8     cont9    cont10  ...  bc_cont5  bc_cont6  bc_cont7  bc_cont8  \\\n",
       "0  0.285542  0.558245  0.779418  ... -1.627804 -0.153681 -0.115569 -1.418084   \n",
       "1  0.580748  0.418335  0.432632  ... -0.480786 -0.751483 -0.665763 -0.572981   \n",
       "2  0.558771  0.587603  0.823312  ... -0.551883 -0.184632 -0.674803 -0.615988   \n",
       "3  0.823267  0.574466  0.580843  ... -1.637502 -0.237457 -0.282941 -0.198174   \n",
       "4  0.604157  0.874658  0.863427  ... -0.441414 -0.183514 -0.712420 -0.529258   \n",
       "\n",
       "   bc_cont9  bc_cont10  bc_cont11  bc_cont12  bc_cont13  bc_cont14  \n",
       "0 -0.559096  -0.239063  -0.080440  -0.139456  -0.128049  -1.066188  \n",
       "1 -0.818871  -0.730296  -0.730866  -0.722043  -0.924849  -0.910200  \n",
       "2 -0.511805  -0.188209  -0.523199  -0.363685  -0.123363  -1.072438  \n",
       "3 -0.532711  -0.496592  -0.252202  -0.193822  -0.089027  -1.136891  \n",
       "4 -0.132635  -0.143284  -0.016522  -0.102942  -0.065905  -0.770578  \n",
       "\n",
       "[5 rows x 42 columns]"
      ]
     },
     "execution_count": 25,
     "metadata": {},
     "output_type": "execute_result"
    }
   ],
   "source": [
    "log_feature_names = [feat for feat in log_train_features.columns if 'log_cont' in str(feat)]\n",
    "log_features = log_train_features[log_feature_names]\n",
    "\n",
    "BC_feature_names = [feat for feat in BC_train_features.columns if 'bc_cont' in str(feat)]\n",
    "BC_features = BC_train_features[BC_feature_names]\n",
    "\n",
    "new_train_features = pd.concat([train_features,log_features,BC_features],axis=1)\n",
    "new_train_features.head()"
   ]
  },
  {
   "cell_type": "code",
   "execution_count": 26,
   "metadata": {},
   "outputs": [
    {
     "name": "stdout",
     "output_type": "stream",
     "text": [
      "The Root Mean Squared Error is 0.72005\n"
     ]
    }
   ],
   "source": [
    "new_train_features_names = new_train_features.columns\n",
    "get_rmse(new_train_features,train_target,new_train_features_names)"
   ]
  },
  {
   "cell_type": "markdown",
   "metadata": {},
   "source": [
    "Much imporvments!!! YAY XD"
   ]
  },
  {
   "cell_type": "code",
   "execution_count": null,
   "metadata": {},
   "outputs": [],
   "source": []
  }
 ],
 "metadata": {
  "kernelspec": {
   "display_name": "Python 3",
   "language": "python",
   "name": "python3"
  },
  "language_info": {
   "codemirror_mode": {
    "name": "ipython",
    "version": 3
   },
   "file_extension": ".py",
   "mimetype": "text/x-python",
   "name": "python",
   "nbconvert_exporter": "python",
   "pygments_lexer": "ipython3",
   "version": "3.8.5"
  }
 },
 "nbformat": 4,
 "nbformat_minor": 4
}
