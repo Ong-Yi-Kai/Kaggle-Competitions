{
 "cells": [
  {
   "cell_type": "code",
   "execution_count": 43,
   "metadata": {},
   "outputs": [],
   "source": [
    "import numpy as np\n",
    "import pandas as pd\n",
    "\n",
    "from sklearn.model_selection import train_test_split, GridSearchCV, KFold\n",
    "from sklearn.preprocessing import StandardScaler\n",
    "from sklearn.linear_model import LinearRegression\n",
    "from sklearn.multioutput import MultiOutputRegressor\n",
    "from sklearn.metrics import mean_squared_log_error as msle\n",
    "from sklearn.tree import DecisionTreeRegressor\n",
    "from sklearn.ensemble import RandomForestRegressor, AdaBoostRegressor\n",
    "from sklearn.svm import SVR\n",
    "from sklearn.neighbors import KNeighborsRegressor\n",
    "from sklearn.pipeline import Pipeline\n",
    "\n",
    "import lightgbm as lgb"
   ]
  },
  {
   "cell_type": "code",
   "execution_count": 6,
   "metadata": {},
   "outputs": [],
   "source": [
    "train = pd.read_csv(r\"C:\\Users\\Ong Yi Kai\\Desktop\\Data\\Kaggle competitions\\Tabular Data Jul 2021\\train.csv\", date_parser=True)\n",
    "test = pd.read_csv(r\"C:\\Users\\Ong Yi Kai\\Desktop\\Data\\Kaggle competitions\\Tabular Data Jul 2021\\test.csv\",date_parser=True)\n",
    "\n",
    "date_tr = train.iloc[:,0]\n",
    "data_tr = train.iloc[:,1:-3]\n",
    "target = train.iloc[:,-3:]\n",
    "\n",
    "date_test = test.iloc[:,0]\n",
    "data_test = test.iloc[:,1:]\n",
    "\n",
    "feature_names = data_tr.columns"
   ]
  },
  {
   "cell_type": "code",
   "execution_count": 7,
   "metadata": {},
   "outputs": [
    {
     "name": "stdout",
     "output_type": "stream",
     "text": [
      "Shape of Training data:(5688, 8), target:(5688, 3) \n",
      "Shape of Validation Data:(1423, 8), target:(1423, 3)\n"
     ]
    }
   ],
   "source": [
    "# split data\n",
    "X_train, X_val, y_train, y_val = train_test_split(data_tr, target, test_size=0.2, random_state=2021)\n",
    "print(f\"Shape of Training data:{X_train.shape}, target:{y_train.shape} \\nShape of Validation Data:{X_val.shape}, target:{y_val.shape}\")"
   ]
  },
  {
   "cell_type": "markdown",
   "metadata": {},
   "source": [
    "# BASIC MODELS"
   ]
  },
  {
   "cell_type": "code",
   "execution_count": 8,
   "metadata": {},
   "outputs": [],
   "source": [
    "#Create regressor objects\n",
    "lr = MultiOutputRegressor(LinearRegression())\n",
    "dtr = MultiOutputRegressor(DecisionTreeRegressor())\n",
    "rfr = MultiOutputRegressor(RandomForestRegressor())\n",
    "svr = MultiOutputRegressor(SVR())\n",
    "knr = MultiOutputRegressor(KNeighborsRegressor())"
   ]
  },
  {
   "cell_type": "code",
   "execution_count": 9,
   "metadata": {},
   "outputs": [],
   "source": [
    "pipe = Pipeline([\n",
    "    ('Scalers',StandardScaler()),\n",
    "    ('Estimators',lr)\n",
    "])"
   ]
  },
  {
   "cell_type": "code",
   "execution_count": 10,
   "metadata": {},
   "outputs": [],
   "source": [
    "param_grid = {\n",
    "    'Estimators':[lr,dtr,rfr,svr,knr]\n",
    "}\n",
    "\n",
    "search = GridSearchCV(pipe, param_grid,n_jobs=-1,cv=5,return_train_score=True, verbose=1)"
   ]
  },
  {
   "cell_type": "code",
   "execution_count": 11,
   "metadata": {},
   "outputs": [
    {
     "name": "stdout",
     "output_type": "stream",
     "text": [
      "Fitting 5 folds for each of 5 candidates, totalling 25 fits\n"
     ]
    },
    {
     "data": {
      "text/plain": [
       "GridSearchCV(cv=5,\n",
       "             estimator=Pipeline(steps=[('Scalers', StandardScaler()),\n",
       "                                       ('Estimators',\n",
       "                                        MultiOutputRegressor(estimator=LinearRegression()))]),\n",
       "             n_jobs=-1,\n",
       "             param_grid={'Estimators': [MultiOutputRegressor(estimator=LinearRegression()),\n",
       "                                        MultiOutputRegressor(estimator=DecisionTreeRegressor()),\n",
       "                                        MultiOutputRegressor(estimator=RandomForestRegressor()),\n",
       "                                        MultiOutputRegressor(estimator=SVR()),\n",
       "                                        MultiOutputRegressor(estimator=KNeighborsRegressor())]},\n",
       "             return_train_score=True, verbose=1)"
      ]
     },
     "execution_count": 11,
     "metadata": {},
     "output_type": "execute_result"
    }
   ],
   "source": [
    "search.fit(X_train,y_train)"
   ]
  },
  {
   "cell_type": "code",
   "execution_count": 12,
   "metadata": {},
   "outputs": [
    {
     "data": {
      "text/plain": [
       "{'Estimators': MultiOutputRegressor(estimator=RandomForestRegressor())}"
      ]
     },
     "execution_count": 12,
     "metadata": {},
     "output_type": "execute_result"
    }
   ],
   "source": [
    "search.best_params_"
   ]
  },
  {
   "cell_type": "code",
   "execution_count": 13,
   "metadata": {},
   "outputs": [
    {
     "data": {
      "text/plain": [
       "0.18715397856752125"
      ]
     },
     "execution_count": 13,
     "metadata": {},
     "output_type": "execute_result"
    }
   ],
   "source": [
    "y_val_pred = search.predict(X_val)\n",
    "error = msle(y_val,y_val_pred,multioutput = 'uniform_average',squared=False)\n",
    "error"
   ]
  },
  {
   "cell_type": "markdown",
   "metadata": {},
   "source": [
    "# LIGHTBOOST"
   ]
  },
  {
   "cell_type": "code",
   "execution_count": 73,
   "metadata": {},
   "outputs": [],
   "source": [
    "from xgboost import XGBRegressor"
   ]
  },
  {
   "cell_type": "code",
   "execution_count": 81,
   "metadata": {},
   "outputs": [],
   "source": [
    "Params0 = {\n",
    "        'max_depth': 3, \n",
    "        'learning_rate': 0.06974270910763652, \n",
    "        'n_estimators': 24813, \n",
    "        'min_child_weight': 15, \n",
    "        'gamma': 0.00015352935707382668, \n",
    "        'alpha': 0.007300887912196733, \n",
    "        'lambda': 0.00233147304187698, \n",
    "        'colsample_bytree': 0.6706673656091967, \n",
    "        'subsample': 0.32392556118811044,\n",
    "        'booster': 'gbtree',\n",
    "        'random_state': 123,\n",
    "        'use_label_encoder': False,\n",
    "        'eval_metric':'rmsle'\n",
    "\n",
    "}"
   ]
  },
  {
   "cell_type": "code",
   "execution_count": 101,
   "metadata": {},
   "outputs": [
    {
     "name": "stdout",
     "output_type": "stream",
     "text": [
      "[0]\tvalidation_0-rmsle:0.67738\n",
      "[100]\tvalidation_0-rmsle:0.13105\n",
      "[200]\tvalidation_0-rmsle:0.12957\n",
      "[300]\tvalidation_0-rmsle:0.13091\n",
      "[380]\tvalidation_0-rmsle:0.13040\n",
      "RMSLE:0.1293841549482384\n",
      "[0]\tvalidation_0-rmsle:0.66867\n",
      "[100]\tvalidation_0-rmsle:0.13720\n",
      "[200]\tvalidation_0-rmsle:0.13330\n",
      "[300]\tvalidation_0-rmsle:0.13237\n",
      "[400]\tvalidation_0-rmsle:0.13125\n",
      "[500]\tvalidation_0-rmsle:0.13265\n",
      "[600]\tvalidation_0-rmsle:0.13272\n",
      "[602]\tvalidation_0-rmsle:0.13278\n",
      "RMSLE:0.1310619930389098\n",
      "[0]\tvalidation_0-rmsle:0.67617\n",
      "[100]\tvalidation_0-rmsle:0.14490\n",
      "[200]\tvalidation_0-rmsle:0.14250\n",
      "[300]\tvalidation_0-rmsle:0.14214\n",
      "[400]\tvalidation_0-rmsle:0.14187\n",
      "[500]\tvalidation_0-rmsle:0.14060\n",
      "[600]\tvalidation_0-rmsle:0.14119\n",
      "[700]\tvalidation_0-rmsle:0.14174\n",
      "[800]\tvalidation_0-rmsle:0.14014\n",
      "[900]\tvalidation_0-rmsle:0.14029\n",
      "[1000]\tvalidation_0-rmsle:0.14069\n",
      "[1100]\tvalidation_0-rmsle:0.13977\n",
      "[1200]\tvalidation_0-rmsle:0.13959\n",
      "[1300]\tvalidation_0-rmsle:0.13906\n",
      "[1400]\tvalidation_0-rmsle:0.13978\n",
      "[1500]\tvalidation_0-rmsle:0.13914\n",
      "[1600]\tvalidation_0-rmsle:0.13921\n",
      "[1682]\tvalidation_0-rmsle:0.13865\n",
      "RMSLE:0.1382748606779343\n",
      "[0]\tvalidation_0-rmsle:0.67563\n",
      "[100]\tvalidation_0-rmsle:0.13896\n",
      "[200]\tvalidation_0-rmsle:0.13605\n",
      "[300]\tvalidation_0-rmsle:0.13440\n",
      "[400]\tvalidation_0-rmsle:0.13418\n",
      "[500]\tvalidation_0-rmsle:0.13386\n",
      "[600]\tvalidation_0-rmsle:0.13355\n",
      "[646]\tvalidation_0-rmsle:0.13448\n",
      "RMSLE:0.1331490858802013\n",
      "[0]\tvalidation_0-rmsle:0.68067\n",
      "[100]\tvalidation_0-rmsle:0.13970\n",
      "[200]\tvalidation_0-rmsle:0.13484\n",
      "[300]\tvalidation_0-rmsle:0.13393\n",
      "[400]\tvalidation_0-rmsle:0.13256\n",
      "[500]\tvalidation_0-rmsle:0.13182\n",
      "[600]\tvalidation_0-rmsle:0.13156\n",
      "[700]\tvalidation_0-rmsle:0.13156\n",
      "[780]\tvalidation_0-rmsle:0.13260\n",
      "RMSLE:0.1307447496237654\n"
     ]
    }
   ],
   "source": [
    "folds = KFold(n_splits=5, random_state=2005,shuffle=True)\n",
    "pred0 = np.zeros(len(y_val))\n",
    "test0 = np.zeros(len(data_test))\n",
    "for fold, (trn_idx,val_idx) in enumerate(folds.split(X_train,y_train)):\n",
    "    x_tr,y_tr = X_train.iloc[trn_idx,:], y_train.iloc[trn_idx,0]\n",
    "    x_v, y_v =  X_train.iloc[val_idx,:], y_train.iloc[val_idx,0]\n",
    "    \n",
    "    model = XGBRegressor(**Params0)\n",
    "    model.fit(x_tr,y_tr,\n",
    "             eval_set=[(x_v,y_v)],\n",
    "             eval_metric='rmsle',\n",
    "             verbose=100,\n",
    "             early_stopping_rounds=200)\n",
    "    \n",
    "    pred_v = model.predict(x_v)\n",
    "    rmsle = msle(y_v,pred_v,multioutput='uniform_average',squared=False)\n",
    "    print(f'RMSLE:{rmsle}')\n",
    "    \n",
    "    pred0 += model.predict(X_val)/folds.n_splits\n",
    "    test0 += model.predict(data_test)/folds.n_splits"
   ]
  },
  {
   "cell_type": "code",
   "execution_count": 88,
   "metadata": {},
   "outputs": [],
   "source": [
    "Params1 ={\n",
    "        'max_depth': 3, \n",
    "        'learning_rate': 0.01630350395073977, \n",
    "        'n_estimators': 20058, \n",
    "        'min_child_weight': 11, \n",
    "        'gamma': 0.0009762828881569192, \n",
    "        'alpha': 0.001235465069634119, \n",
    "        'lambda': 0.0005268383741494084, \n",
    "        'colsample_bytree': 0.5100114916691317, \n",
    "        'subsample': 0.31372256786444536,\n",
    "        'booster': 'gbtree',\n",
    "        'random_state': 123,\n",
    "        'use_label_encoder': False,\n",
    "        'eval_metric': 'rmsle'\n",
    "        }"
   ]
  },
  {
   "cell_type": "code",
   "execution_count": 102,
   "metadata": {
    "scrolled": true
   },
   "outputs": [
    {
     "name": "stdout",
     "output_type": "stream",
     "text": [
      "[0]\tvalidation_0-rmsle:1.81975\n",
      "[100]\tvalidation_0-rmsle:0.22738\n",
      "[200]\tvalidation_0-rmsle:0.13317\n",
      "[300]\tvalidation_0-rmsle:0.11620\n",
      "[400]\tvalidation_0-rmsle:0.11070\n",
      "[500]\tvalidation_0-rmsle:0.10750\n",
      "[600]\tvalidation_0-rmsle:0.10609\n",
      "[700]\tvalidation_0-rmsle:0.10450\n",
      "[800]\tvalidation_0-rmsle:0.10300\n",
      "[900]\tvalidation_0-rmsle:0.10225\n",
      "[1000]\tvalidation_0-rmsle:0.10106\n",
      "[1100]\tvalidation_0-rmsle:0.10071\n",
      "[1200]\tvalidation_0-rmsle:0.10017\n",
      "[1300]\tvalidation_0-rmsle:0.10003\n",
      "[1400]\tvalidation_0-rmsle:0.10015\n",
      "[1500]\tvalidation_0-rmsle:0.09983\n",
      "[1600]\tvalidation_0-rmsle:0.09951\n",
      "[1700]\tvalidation_0-rmsle:0.09906\n",
      "[1800]\tvalidation_0-rmsle:0.09870\n",
      "[1900]\tvalidation_0-rmsle:0.09842\n",
      "[2000]\tvalidation_0-rmsle:0.09819\n",
      "[2100]\tvalidation_0-rmsle:0.09758\n",
      "[2200]\tvalidation_0-rmsle:0.09733\n",
      "[2300]\tvalidation_0-rmsle:0.09740\n",
      "[2400]\tvalidation_0-rmsle:0.09731\n",
      "[2452]\tvalidation_0-rmsle:0.09733\n",
      "RMSLE:0.0972254464768814\n",
      "[0]\tvalidation_0-rmsle:1.78089\n",
      "[100]\tvalidation_0-rmsle:0.23063\n",
      "[200]\tvalidation_0-rmsle:0.13753\n",
      "[300]\tvalidation_0-rmsle:0.11780\n",
      "[400]\tvalidation_0-rmsle:0.11277\n",
      "[500]\tvalidation_0-rmsle:0.10891\n",
      "[600]\tvalidation_0-rmsle:0.10665\n",
      "[700]\tvalidation_0-rmsle:0.10524\n",
      "[800]\tvalidation_0-rmsle:0.10420\n",
      "[900]\tvalidation_0-rmsle:0.10283\n",
      "[1000]\tvalidation_0-rmsle:0.10173\n",
      "[1100]\tvalidation_0-rmsle:0.10146\n",
      "[1200]\tvalidation_0-rmsle:0.10071\n",
      "[1300]\tvalidation_0-rmsle:0.09994\n",
      "[1400]\tvalidation_0-rmsle:0.09937\n",
      "[1500]\tvalidation_0-rmsle:0.09962\n",
      "[1600]\tvalidation_0-rmsle:0.09922\n",
      "[1700]\tvalidation_0-rmsle:0.09889\n",
      "[1800]\tvalidation_0-rmsle:0.09853\n",
      "[1900]\tvalidation_0-rmsle:0.09831\n",
      "[2000]\tvalidation_0-rmsle:0.09795\n",
      "[2100]\tvalidation_0-rmsle:0.09788\n",
      "[2200]\tvalidation_0-rmsle:0.09754\n",
      "[2300]\tvalidation_0-rmsle:0.09741\n",
      "[2400]\tvalidation_0-rmsle:0.09731\n",
      "[2500]\tvalidation_0-rmsle:0.09742\n",
      "[2552]\tvalidation_0-rmsle:0.09727\n",
      "RMSLE:0.09718992318288378\n",
      "[0]\tvalidation_0-rmsle:1.82372\n",
      "[100]\tvalidation_0-rmsle:0.22873\n",
      "[200]\tvalidation_0-rmsle:0.13517\n",
      "[300]\tvalidation_0-rmsle:0.11785\n",
      "[400]\tvalidation_0-rmsle:0.11302\n",
      "[500]\tvalidation_0-rmsle:0.11026\n",
      "[600]\tvalidation_0-rmsle:0.10788\n",
      "[700]\tvalidation_0-rmsle:0.10605\n",
      "[800]\tvalidation_0-rmsle:0.10516\n",
      "[900]\tvalidation_0-rmsle:0.10354\n",
      "[1000]\tvalidation_0-rmsle:0.10230\n",
      "[1100]\tvalidation_0-rmsle:0.10188\n",
      "[1200]\tvalidation_0-rmsle:0.10169\n",
      "[1300]\tvalidation_0-rmsle:0.10113\n",
      "[1400]\tvalidation_0-rmsle:0.10073\n",
      "[1500]\tvalidation_0-rmsle:0.10044\n",
      "[1600]\tvalidation_0-rmsle:0.10027\n",
      "[1700]\tvalidation_0-rmsle:0.09997\n",
      "[1800]\tvalidation_0-rmsle:0.09980\n",
      "[1900]\tvalidation_0-rmsle:0.09960\n",
      "[2000]\tvalidation_0-rmsle:0.09943\n",
      "[2100]\tvalidation_0-rmsle:0.09931\n",
      "[2200]\tvalidation_0-rmsle:0.09902\n",
      "[2300]\tvalidation_0-rmsle:0.09898\n",
      "[2400]\tvalidation_0-rmsle:0.09908\n",
      "[2500]\tvalidation_0-rmsle:0.09885\n",
      "[2600]\tvalidation_0-rmsle:0.09879\n",
      "[2700]\tvalidation_0-rmsle:0.09884\n",
      "[2800]\tvalidation_0-rmsle:0.09865\n",
      "[2900]\tvalidation_0-rmsle:0.09868\n",
      "[3000]\tvalidation_0-rmsle:0.09859\n",
      "[3100]\tvalidation_0-rmsle:0.09828\n",
      "[3200]\tvalidation_0-rmsle:0.09817\n",
      "[3300]\tvalidation_0-rmsle:0.09818\n",
      "[3400]\tvalidation_0-rmsle:0.09818\n",
      "[3500]\tvalidation_0-rmsle:0.09806\n",
      "[3600]\tvalidation_0-rmsle:0.09808\n",
      "[3700]\tvalidation_0-rmsle:0.09795\n",
      "[3800]\tvalidation_0-rmsle:0.09795\n",
      "[3900]\tvalidation_0-rmsle:0.09800\n",
      "[3927]\tvalidation_0-rmsle:0.09798\n",
      "RMSLE:0.09768362717981349\n",
      "[0]\tvalidation_0-rmsle:1.79973\n",
      "[100]\tvalidation_0-rmsle:0.22865\n",
      "[200]\tvalidation_0-rmsle:0.13863\n",
      "[300]\tvalidation_0-rmsle:0.11980\n",
      "[400]\tvalidation_0-rmsle:0.11249\n",
      "[500]\tvalidation_0-rmsle:0.10924\n",
      "[600]\tvalidation_0-rmsle:0.10655\n",
      "[700]\tvalidation_0-rmsle:0.10432\n",
      "[800]\tvalidation_0-rmsle:0.10392\n",
      "[900]\tvalidation_0-rmsle:0.10267\n",
      "[1000]\tvalidation_0-rmsle:0.10118\n",
      "[1100]\tvalidation_0-rmsle:0.10021\n",
      "[1200]\tvalidation_0-rmsle:0.09965\n",
      "[1300]\tvalidation_0-rmsle:0.09917\n",
      "[1400]\tvalidation_0-rmsle:0.09858\n",
      "[1500]\tvalidation_0-rmsle:0.09828\n",
      "[1600]\tvalidation_0-rmsle:0.09813\n",
      "[1700]\tvalidation_0-rmsle:0.09786\n",
      "[1800]\tvalidation_0-rmsle:0.09772\n",
      "[1900]\tvalidation_0-rmsle:0.09750\n",
      "[2000]\tvalidation_0-rmsle:0.09747\n",
      "[2100]\tvalidation_0-rmsle:0.09748\n",
      "[2103]\tvalidation_0-rmsle:0.09738\n",
      "RMSLE:0.09701100393032508\n",
      "[0]\tvalidation_0-rmsle:1.82025\n",
      "[100]\tvalidation_0-rmsle:0.23420\n",
      "[200]\tvalidation_0-rmsle:0.13947\n",
      "[300]\tvalidation_0-rmsle:0.12155\n",
      "[400]\tvalidation_0-rmsle:0.11509\n",
      "[500]\tvalidation_0-rmsle:0.11169\n",
      "[600]\tvalidation_0-rmsle:0.10846\n",
      "[700]\tvalidation_0-rmsle:0.10674\n",
      "[800]\tvalidation_0-rmsle:0.10578\n",
      "[900]\tvalidation_0-rmsle:0.10469\n",
      "[1000]\tvalidation_0-rmsle:0.10369\n",
      "[1100]\tvalidation_0-rmsle:0.10276\n",
      "[1200]\tvalidation_0-rmsle:0.10234\n",
      "[1300]\tvalidation_0-rmsle:0.10166\n",
      "[1400]\tvalidation_0-rmsle:0.10143\n",
      "[1500]\tvalidation_0-rmsle:0.10093\n",
      "[1600]\tvalidation_0-rmsle:0.10056\n",
      "[1700]\tvalidation_0-rmsle:0.10025\n",
      "[1800]\tvalidation_0-rmsle:0.10009\n",
      "[1900]\tvalidation_0-rmsle:0.09975\n",
      "[2000]\tvalidation_0-rmsle:0.09960\n",
      "[2100]\tvalidation_0-rmsle:0.09909\n",
      "[2200]\tvalidation_0-rmsle:0.09863\n",
      "[2300]\tvalidation_0-rmsle:0.09860\n",
      "[2400]\tvalidation_0-rmsle:0.09843\n",
      "[2500]\tvalidation_0-rmsle:0.09823\n",
      "[2600]\tvalidation_0-rmsle:0.09804\n",
      "[2700]\tvalidation_0-rmsle:0.09799\n",
      "[2800]\tvalidation_0-rmsle:0.09774\n",
      "[2900]\tvalidation_0-rmsle:0.09763\n",
      "[3000]\tvalidation_0-rmsle:0.09760\n",
      "[3100]\tvalidation_0-rmsle:0.09745\n",
      "[3200]\tvalidation_0-rmsle:0.09736\n",
      "[3300]\tvalidation_0-rmsle:0.09748\n",
      "[3400]\tvalidation_0-rmsle:0.09715\n",
      "[3500]\tvalidation_0-rmsle:0.09720\n",
      "[3600]\tvalidation_0-rmsle:0.09697\n",
      "[3700]\tvalidation_0-rmsle:0.09690\n",
      "[3800]\tvalidation_0-rmsle:0.09694\n",
      "[3872]\tvalidation_0-rmsle:0.09694\n",
      "RMSLE:0.09571860167093144\n"
     ]
    }
   ],
   "source": [
    "folds = KFold(n_splits=5, random_state=2005,shuffle=True)\n",
    "pred1 = np.zeros(len(y_val))\n",
    "test1 = np.zeros((len(data_test)))\n",
    "for fold, (trn_idx,val_idx) in enumerate(folds.split(X_train,y_train)):\n",
    "    x_tr,y_tr = X_train.iloc[trn_idx,:], y_train.iloc[trn_idx,1]\n",
    "    x_v, y_v =  X_train.iloc[val_idx,:], y_train.iloc[val_idx,1]\n",
    "    \n",
    "    model = XGBRegressor(**Params1)\n",
    "    model.fit(x_tr,y_tr,\n",
    "             eval_set=[(x_v,y_v)],\n",
    "             eval_metric='rmsle',\n",
    "             verbose=100,\n",
    "             early_stopping_rounds=200)\n",
    "    \n",
    "    pred_v = model.predict(x_v)\n",
    "    rmsle = msle(y_v,abs(pred_v),multioutput='uniform_average',squared=False)\n",
    "    print(f'RMSLE:{rmsle}')\n",
    "    \n",
    "    pred1 += model.predict(X_val)/folds.n_splits\n",
    "    test1 +=model.predict(data_test)/folds.n_splits"
   ]
  },
  {
   "cell_type": "code",
   "execution_count": 95,
   "metadata": {},
   "outputs": [],
   "source": [
    "Params2 = {\n",
    "        'max_depth': 6, \n",
    "        'learning_rate': 0.07398714527058703, \n",
    "        'n_estimators': 15509, \n",
    "        'min_child_weight': 1, \n",
    "        'gamma': 0.0010264813784765508, \n",
    "        'alpha': 0.002893496668661691, \n",
    "        'lambda': 0.008742987610869259, \n",
    "        'colsample_bytree': 0.6256322009147708, \n",
    "        'subsample': 0.5955732014997671,\n",
    "        'booster': 'gbtree',\n",
    "        'random_state': 123,\n",
    "        'use_label_encoder': False,\n",
    "        'eval_metric': 'rmsle'\n",
    "        }"
   ]
  },
  {
   "cell_type": "code",
   "execution_count": 103,
   "metadata": {},
   "outputs": [
    {
     "name": "stdout",
     "output_type": "stream",
     "text": [
      "[0]\tvalidation_0-rmsle:2.43634\n",
      "[100]\tvalidation_0-rmsle:0.37523\n",
      "[200]\tvalidation_0-rmsle:nan\n",
      "[241]\tvalidation_0-rmsle:nan\n",
      "RMSLE:0.3549932564257398\n",
      "[0]\tvalidation_0-rmsle:2.42859\n",
      "[100]\tvalidation_0-rmsle:0.37117\n",
      "[200]\tvalidation_0-rmsle:0.36593\n",
      "[300]\tvalidation_0-rmsle:0.36653\n",
      "[400]\tvalidation_0-rmsle:0.36563\n",
      "[448]\tvalidation_0-rmsle:0.36605\n",
      "RMSLE:0.3652646052461032\n",
      "[0]\tvalidation_0-rmsle:2.40629\n",
      "[100]\tvalidation_0-rmsle:0.34349\n",
      "[200]\tvalidation_0-rmsle:0.33863\n",
      "[300]\tvalidation_0-rmsle:0.33970\n",
      "[400]\tvalidation_0-rmsle:0.34265\n",
      "[416]\tvalidation_0-rmsle:0.34266\n",
      "RMSLE:0.33835936222044083\n",
      "[0]\tvalidation_0-rmsle:2.44066\n",
      "[100]\tvalidation_0-rmsle:0.35181\n",
      "[200]\tvalidation_0-rmsle:0.35154\n",
      "[300]\tvalidation_0-rmsle:0.35355\n",
      "[336]\tvalidation_0-rmsle:0.35357\n",
      "RMSLE:0.3502201882573853\n",
      "[0]\tvalidation_0-rmsle:2.41330\n",
      "[100]\tvalidation_0-rmsle:0.35680\n",
      "[200]\tvalidation_0-rmsle:nan\n",
      "[277]\tvalidation_0-rmsle:nan\n",
      "RMSLE:0.3535674483700579\n"
     ]
    }
   ],
   "source": [
    "folds = KFold(n_splits=5, random_state=2005,shuffle=True)\n",
    "pred2 = np.zeros(len(y_val))\n",
    "test2 = np.zeros((len(data_test)))\n",
    "for fold, (trn_idx,val_idx) in enumerate(folds.split(X_train,y_train)):\n",
    "    x_tr,y_tr = X_train.iloc[trn_idx,:], y_train.iloc[trn_idx,2]\n",
    "    x_v, y_v =  X_train.iloc[val_idx,:], y_train.iloc[val_idx,2]\n",
    "    \n",
    "    model = XGBRegressor(**Params2)\n",
    "    model.fit(x_tr,y_tr,\n",
    "             eval_set=[(x_v,y_v)],\n",
    "             eval_metric='rmsle',\n",
    "             verbose=100,\n",
    "             early_stopping_rounds=200)\n",
    "    \n",
    "    pred_v = model.predict(x_v)\n",
    "    rmsle = msle(y_v,pred_v,multioutput='uniform_average',squared=False)\n",
    "    print(f'RMSLE:{rmsle}')\n",
    "    \n",
    "    pred2 += model.predict(X_val)/folds.n_splits\n",
    "    test2 += model.predict(data_test)/folds.n_splits"
   ]
  },
  {
   "cell_type": "code",
   "execution_count": 99,
   "metadata": {},
   "outputs": [
    {
     "data": {
      "text/plain": [
       "0.19097871442633182"
      ]
     },
     "execution_count": 99,
     "metadata": {},
     "output_type": "execute_result"
    }
   ],
   "source": [
    "y_pred_val = np.column_stack((pred0,pred1,pred2))\n",
    "val_error = msle(y_val,abs(y_pred_val), multioutput = 'uniform_average',squared=False)\n",
    "val_error"
   ]
  },
  {
   "cell_type": "code",
   "execution_count": 107,
   "metadata": {},
   "outputs": [],
   "source": [
    "sub_pred = pd.DataFrame(np.column_stack((test0,test1,test2)),columns=target.columns)\n",
    "sub_pred_df = pd.concat([date_test,sub_pred],axis=1)\n",
    "sub_pred_df.to_csv('submit_0.csv',index=False)"
   ]
  },
  {
   "cell_type": "code",
   "execution_count": null,
   "metadata": {},
   "outputs": [],
   "source": []
  }
 ],
 "metadata": {
  "kernelspec": {
   "display_name": "Python 3",
   "language": "python",
   "name": "python3"
  },
  "language_info": {
   "codemirror_mode": {
    "name": "ipython",
    "version": 3
   },
   "file_extension": ".py",
   "mimetype": "text/x-python",
   "name": "python",
   "nbconvert_exporter": "python",
   "pygments_lexer": "ipython3",
   "version": "3.8.5"
  }
 },
 "nbformat": 4,
 "nbformat_minor": 4
}
